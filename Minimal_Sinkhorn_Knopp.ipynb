{
  "nbformat": 4,
  "nbformat_minor": 0,
  "metadata": {
    "colab": {
      "name": "scratchpad",
      "provenance": [],
      "include_colab_link": true
    },
    "kernelspec": {
      "display_name": "Python 3",
      "name": "python3"
    }
  },
  "cells": [
    {
      "cell_type": "markdown",
      "metadata": {
        "id": "view-in-github",
        "colab_type": "text"
      },
      "source": [
        "<a href=\"https://colab.research.google.com/github/ayulockin/SwAV-TF/blob/master/Minimal_Sinkhorn_Knopp.ipynb\" target=\"_parent\"><img src=\"https://colab.research.google.com/assets/colab-badge.svg\" alt=\"Open In Colab\"/></a>"
      ]
    },
    {
      "cell_type": "markdown",
      "metadata": {
        "id": "QBzz6gdsYD4x",
        "colab_type": "text"
      },
      "source": [
        "## References:\n",
        "- https://michielstock.github.io/OptimalTransport/\n",
        "- Appendix A.1 of the [original paper](https://arxiv.org/pdf/2006.09882.pdf)"
      ]
    },
    {
      "cell_type": "code",
      "metadata": {
        "colab_type": "code",
        "id": "lIYdn1woOS1n",
        "colab": {}
      },
      "source": [
        "import numpy as np\n",
        "import tensorflow as tf"
      ],
      "execution_count": 1,
      "outputs": []
    },
    {
      "cell_type": "code",
      "metadata": {
        "id": "uQOds4ONXb00",
        "colab_type": "code",
        "colab": {
          "base_uri": "https://localhost:8080/",
          "height": 34
        },
        "outputId": "a7f9c1d7-dec2-4111-b8ac-00ca7cb8e9d7"
      },
      "source": [
        "sample_prototype_batch = tf.random.uniform((32, 3000), dtype=tf.float32)\n",
        "sample_prototype_batch.shape.as_list()"
      ],
      "execution_count": 12,
      "outputs": [
        {
          "output_type": "execute_result",
          "data": {
            "text/plain": [
              "[32, 3000]"
            ]
          },
          "metadata": {
            "tags": []
          },
          "execution_count": 12
        }
      ]
    },
    {
      "cell_type": "code",
      "metadata": {
        "id": "ZDfiIqafaESY",
        "colab_type": "code",
        "colab": {}
      },
      "source": [
        "Q = tf.transpose(tf.exp(sample_prototype_batch/0.05))\n",
        "Q /= tf.keras.backend.sum(Q)\n",
        "K, B = Q.shape\n",
        "\n",
        "u = tf.zeros_like(K, dtype=tf.float32)\n",
        "r = tf.ones_like(K, dtype=tf.float32) / K\n",
        "c = tf.ones_like(B, dtype=tf.float32) / B\n",
        "\n",
        "for _ in range(3):\n",
        "    u = tf.keras.backend.sum(Q, axis=1)\n",
        "    Q *= tf.expand_dims((r / u), axis=1)\n",
        "    Q *= tf.expand_dims(c / tf.keras.backend.sum(Q, axis=0), 0)\n",
        "\n",
        "final_quantity = Q / tf.keras.backend.sum(Q, axis=0, keepdims=True)\n",
        "final_quantity = tf.transpose(final_quantity)"
      ],
      "execution_count": 13,
      "outputs": []
    },
    {
      "cell_type": "code",
      "metadata": {
        "id": "zibTyTSVYXy2",
        "colab_type": "code",
        "colab": {
          "base_uri": "https://localhost:8080/",
          "height": 34
        },
        "outputId": "dd67ed43-ef67-4407-9940-3c5f16d365ff"
      },
      "source": [
        "final_quantity.shape"
      ],
      "execution_count": 14,
      "outputs": [
        {
          "output_type": "execute_result",
          "data": {
            "text/plain": [
              "TensorShape([32, 3000])"
            ]
          },
          "metadata": {
            "tags": []
          },
          "execution_count": 14
        }
      ]
    }
  ]
}