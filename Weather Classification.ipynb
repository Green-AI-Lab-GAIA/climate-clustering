{
 "cells": [
  {
   "cell_type": "code",
   "execution_count": 2,
   "metadata": {},
   "outputs": [
    {
     "name": "stderr",
     "output_type": "stream",
     "text": [
      "2024-07-10 11:44:47.310377: I tensorflow/core/platform/cpu_feature_guard.cc:182] This TensorFlow binary is optimized to use available CPU instructions in performance-critical operations.\n",
      "To enable the following instructions: SSE4.1 SSE4.2 AVX AVX2 FMA, in other operations, rebuild TensorFlow with the appropriate compiler flags.\n"
     ]
    }
   ],
   "source": [
    "import tensorflow as tf\n",
    "import matplotlib.pyplot as plt\n",
    "import numpy as np\n",
    "\n",
    "import utils.multicrop_dataset as multicrop_dataset\n",
    "import utils.architecture as architecture\n",
    "\n",
    "tf.random.set_seed(0)\n",
    "np.random.seed(0)\n",
    "\n",
    "options = tf.data.Options()\n",
    "options.experimental_optimization.noop_elimination = True             # eliminate no-op transformations\n",
    "tf.compat.v1.data.experimental.OptimizationOptions.map_vectorization = True    # vectorize map transformations\n",
    "options.experimental_optimization.apply_default_optimizations = True  # apply default graph optimizations\n",
    "options.experimental_deterministic = True                            # False disable deterministic order\n",
    "options.threading.max_intra_op_parallelism = 1           # overrides the maximum degree of intra-op parallelism "
   ]
  },
  {
   "cell_type": "code",
   "execution_count": 9,
   "metadata": {},
   "outputs": [],
   "source": [
    "import xarray as xr\n",
    "import numpy as np\n",
    "from time import sleep\n",
    "\n",
    "def open_nc(file_path):\n",
    "\n",
    "    try:\n",
    "        ds = xr.open_dataset(file_path)\n",
    "\n",
    "    except Exception as e:\n",
    "        print(f\"Error opening file: {e}\")\n",
    "        return \n",
    "\n",
    "    else:\n",
    "        return ds\n",
    "    \n",
    "def get_values(variable, file= 'data/msl_t2m_1983_2023.nc',wind = 5, quantile=False):\n",
    "    #just to save process\n",
    "\n",
    "    ds = open_nc(file)\n",
    "    df = ds[variable].values\n",
    "\n",
    "    if quantile:\n",
    "        max_o = np.quantile(df,0.99)\n",
    "        min_o = np.quantile(df,0.1)\n",
    "\n",
    "        df = np.clip(df, min_o, max_o)\n",
    "\n",
    "    else:\n",
    "        min_o = np.min(df)\n",
    "        max_o = np.max(df)\n",
    "\n",
    "    norm_imgs = (df - min_o)/(max_o -min_o)\n",
    "\n",
    "    time, lat, long = norm_imgs.shape\n",
    "\n",
    "    norm_imgs = norm_imgs.reshape(int(time/wind), wind, lat, long)\n",
    "    norm_imgs = np.transpose(norm_imgs, (0, 2, 3, 1))\n",
    "\n",
    "    # np.save(f'data/{variable}',norm_imgs,allow_pickle=False)\n",
    "\n",
    "    return norm_imgs\n",
    "\n",
    "data = get_values('t2m')"
   ]
  },
  {
   "cell_type": "code",
   "execution_count": 12,
   "metadata": {},
   "outputs": [],
   "source": [
    "BS = 256\n",
    "SIZE_CROPS = [50, 32]  \n",
    "NUM_CROPS= [2,3]\n",
    "\n",
    "#SCALE FOR CROPPING\n",
    "MIN_SCALE = [0.7, 0.5]\n",
    "MAX_SCALE = [1., 0.7]\n",
    "\n",
    "PROTOTYPES = 30\n",
    "PROPORTIONS = [] #to not use proportions declare it as empty list\n",
    "\n",
    "#check\n",
    "if len(PROPORTIONS):\n",
    "    PROTOTYPES = len(PROPORTIONS)\n",
    "\n",
    "MODEL_TAG  = ''"
   ]
  },
  {
   "cell_type": "code",
   "execution_count": 13,
   "metadata": {},
   "outputs": [
    {
     "name": "stderr",
     "output_type": "stream",
     "text": [
      "2024-07-10 11:48:48.683817: I tensorflow/core/common_runtime/gpu/gpu_device.cc:1635] Created device /job:localhost/replica:0/task:0/device:GPU:0 with 79195 MB memory:  -> device: 0, name: NVIDIA A100 80GB PCIe, pci bus id: 0001:00:00.0, compute capability: 8.0\n"
     ]
    }
   ],
   "source": [
    "# data = np.load('data/test.npy')\n",
    "data_tensors = tf.data.Dataset.from_tensor_slices(data) \n",
    "\n",
    "# Get multiple data loaders\n",
    "trainloaders = multicrop_dataset.get_multires_dataset(data_tensors,\n",
    "    size_crops=SIZE_CROPS,\n",
    "    num_crops=NUM_CROPS,\n",
    "    min_scale=MIN_SCALE,\n",
    "    max_scale=MAX_SCALE,\n",
    "    options=options)\n",
    "\n",
    "trainloaders_zipped = tf.data.Dataset.zip(trainloaders)\n",
    "\n",
    "trainloaders_zipped = (\n",
    "        trainloaders_zipped\n",
    "        .batch(BS)\n",
    "        .prefetch( tf.data.experimental.AUTOTUNE)\n",
    "    )"
   ]
  },
  {
   "cell_type": "code",
   "execution_count": 14,
   "metadata": {},
   "outputs": [
    {
     "name": "stderr",
     "output_type": "stream",
     "text": [
      "2024-07-10 11:49:12.246166: I tensorflow/core/common_runtime/executor.cc:1197] [/device:CPU:0] (DEBUG INFO) Executor start aborting (this does not indicate an error and you can ignore this message): INVALID_ARGUMENT: You must feed a value for placeholder tensor 'Placeholder/_30' with dtype float and shape [23960,143,142,5]\n",
      "\t [[{{node Placeholder/_30}}]]\n",
      "2024-07-10 11:49:12.246519: I tensorflow/core/common_runtime/executor.cc:1197] [/device:CPU:0] (DEBUG INFO) Executor start aborting (this does not indicate an error and you can ignore this message): INVALID_ARGUMENT: You must feed a value for placeholder tensor 'Placeholder/_0' with dtype float and shape [23960,143,142,5]\n",
      "\t [[{{node Placeholder/_0}}]]\n"
     ]
    }
   ],
   "source": [
    "images = [i[3] for i in next(iter(trainloaders_zipped))]\n",
    "\n",
    "fig, axes = plt.subplots(1, 5, figsize=(10, 7))\n",
    "\n",
    "for ax, img in zip(axes.ravel(), images):\n",
    "    ax.imshow(img,cmap='Blues')\n",
    "    ax.axis('off')\n",
    "\n",
    "\n",
    "for ax in axes.ravel()[len(images):]:\n",
    "    ax.axis('off')\n",
    "\n",
    "plt.tight_layout()\n",
    "plt.show()"
   ]
  },
  {
   "cell_type": "code",
   "execution_count": 7,
   "metadata": {},
   "outputs": [],
   "source": [
    "feature_backbone = architecture.get_resnet_backbone()\n",
    "projection_prototype = architecture.get_projection_prototype(prototype_dimension = PROTOTYPES)"
   ]
  },
  {
   "cell_type": "code",
   "execution_count": 8,
   "metadata": {},
   "outputs": [
    {
     "name": "stdout",
     "output_type": "stream",
     "text": [
      "Model: \"model\"\n",
      "_________________________________________________________________\n",
      " Layer (type)                Output Shape              Param #   \n",
      "=================================================================\n",
      " input_2 (InputLayer)        [(None, None, None, 1)]   0         \n",
      "                                                                 \n",
      " encoder (Functional)        (None, None, None, 512)   11182080  \n",
      "                                                                 \n",
      " global_average_pooling2d (G  (None, 512)              0         \n",
      " lobalAveragePooling2D)                                          \n",
      "                                                                 \n",
      "=================================================================\n",
      "Total params: 11,182,080\n",
      "Trainable params: 11,172,480\n",
      "Non-trainable params: 9,600\n",
      "_________________________________________________________________\n"
     ]
    }
   ],
   "source": [
    "feature_backbone.summary()"
   ]
  },
  {
   "cell_type": "code",
   "execution_count": 9,
   "metadata": {},
   "outputs": [
    {
     "name": "stdout",
     "output_type": "stream",
     "text": [
      "Model: \"model_1\"\n",
      "_________________________________________________________________\n",
      " Layer (type)                Output Shape              Param #   \n",
      "=================================================================\n",
      " input_3 (InputLayer)        [(None, 512)]             0         \n",
      "                                                                 \n",
      " dense (Dense)               (None, 1024)              525312    \n",
      "                                                                 \n",
      " batch_normalization (BatchN  (None, 1024)             4096      \n",
      " ormalization)                                                   \n",
      "                                                                 \n",
      " activation (Activation)     (None, 1024)              0         \n",
      "                                                                 \n",
      " dense_1 (Dense)             (None, 96)                98400     \n",
      "                                                                 \n",
      " tf.math.l2_normalize (TFOpL  (None, 96)               0         \n",
      " ambda)                                                          \n",
      "                                                                 \n",
      " prototype (Dense)           (None, 15)                1440      \n",
      "                                                                 \n",
      "=================================================================\n",
      "Total params: 629,248\n",
      "Trainable params: 627,200\n",
      "Non-trainable params: 2,048\n",
      "_________________________________________________________________\n"
     ]
    }
   ],
   "source": [
    "projection_prototype.summary()"
   ]
  },
  {
   "cell_type": "code",
   "execution_count": 10,
   "metadata": {},
   "outputs": [],
   "source": [
    "decay_steps = 1000\n",
    "\n",
    "lr_decayed_fn = tf.keras.experimental.CosineDecay(\n",
    "    initial_learning_rate=0.1, decay_steps=decay_steps)\n",
    "\n",
    "opt = tf.keras.optimizers.SGD(learning_rate=lr_decayed_fn)"
   ]
  },
  {
   "cell_type": "code",
   "execution_count": 11,
   "metadata": {},
   "outputs": [],
   "source": [
    "# tf.keras.backend.clear_session()"
   ]
  },
  {
   "cell_type": "code",
   "execution_count": 16,
   "metadata": {},
   "outputs": [],
   "source": [
    "feature_backbone.load_weights(f'model_weights/feature2d_.h5')\n",
    "projection_prototype.load_weights(f'model_weights/proj2d_.h5')"
   ]
  },
  {
   "cell_type": "code",
   "execution_count": null,
   "metadata": {},
   "outputs": [],
   "source": [
    "epoch_wise_loss, models_tr = architecture.train_swav(feature_backbone,projection_prototype,\n",
    "                                        trainloaders_zipped,opt,\n",
    "                                        crops_for_assign=[0, 1],temperature=0.1,epochs=100,\n",
    "                                        n_crops = NUM_CROPS, proto_proportions = PROPORTIONS,model_name=str(PROTOTYPES))\n",
    "\n",
    "feature_backbone_weights = feature_backbone.get_weights()"
   ]
  },
  {
   "cell_type": "code",
   "execution_count": 20,
   "metadata": {},
   "outputs": [
    {
     "data": {
      "image/png": "[encoded data removed]",
      "text/plain": [
       "<Figure size 640x480 with 1 Axes>"
      ]
     },
     "metadata": {},
     "output_type": "display_data"
    }
   ],
   "source": [
    "plt.plot(epoch_wise_loss, label='Epoch-wise Loss')\n",
    "plt.axhline(y=np.log(PROTOTYPES), color='r', linestyle='--', label='ln(#prototypes)')\n",
    "\n",
    "plt.show()"
   ]
  },
  {
   "cell_type": "markdown",
   "metadata": {},
   "source": [
    "## Get assigments:"
   ]
  },
  {
   "cell_type": "code",
   "execution_count": null,
   "metadata": {},
   "outputs": [],
   "source": [
    "from scipy.special import softmax"
   ]
  },
  {
   "cell_type": "code",
   "execution_count": 45,
   "metadata": {},
   "outputs": [],
   "source": [
    "final_data = []\n",
    "for sample in data:\n",
    "\n",
    "    for v in range(sample.shape[-1]):\n",
    "        final_data.append(sample[:,:,v])"
   ]
  },
  {
   "cell_type": "code",
   "execution_count": 57,
   "metadata": {},
   "outputs": [
    {
     "name": "stderr",
     "output_type": "stream",
     "text": [
      "2024-07-10 11:27:41.378366: W tensorflow/core/kernels/gpu_utils.cc:50] Failed to allocate memory for convolution redzone checking; skipping this check. This is benign and only means that we won't check cudnn for out-of-bounds reads and writes. This message will only be printed once.\n"
     ]
    }
   ],
   "source": [
    "blocks=100\n",
    "size = int(len(final_data)/blocks)\n",
    "\n",
    "for i in range(blocks):\n",
    "\n",
    "    embeddings_ = feature_backbone(np.asarray(final_data)[i*size:(i+1)*size])\n",
    "    projection_, prototype_ = projection_prototype(embeddings_)\n",
    "\n",
    "    if i == 0:\n",
    "        prototype=np.asarray(prototype_)\n",
    "    else:\n",
    "        prototype=np.concatenate([prototype,np.asarray(prototype_)])\n",
    "\n",
    "prototype = np.asarray(prototype)\n",
    "del projection_,embeddings_\n",
    "\n",
    "assignments = np.argmax(softmax(prototype),axis=1)\n",
    "np.save(f'model_weights/assignments_{PROTOTYPES}',assignments,allow_pickle=False)"
   ]
  }
 ],
 "metadata": {
  "kernelspec": {
   "display_name": "tf",
   "language": "python",
   "name": "python3"
  },
  "language_info": {
   "codemirror_mode": {
    "name": "ipython",
    "version": 3
   },
   "file_extension": ".py",
   "mimetype": "text/x-python",
   "name": "python",
   "nbconvert_exporter": "python",
   "pygments_lexer": "ipython3",
   "version": "3.11.9"
  }
 },
 "nbformat": 4,
 "nbformat_minor": 2
}
