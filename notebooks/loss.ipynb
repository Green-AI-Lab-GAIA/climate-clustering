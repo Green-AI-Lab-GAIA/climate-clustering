{
 "cells": [
  {
   "cell_type": "code",
   "execution_count": 1,
   "id": "3ddd8952",
   "metadata": {},
   "outputs": [],
   "source": [
    "import pandas as pd\n",
    "import matplotlib.pyplot as plt\n"
   ]
  },
  {
   "cell_type": "code",
   "execution_count": 2,
   "id": "09f75350",
   "metadata": {},
   "outputs": [],
   "source": [
    "train = pd.read_csv('../checkpoint/msn-complete-br-data/temperature-exp-1_r0.csv')\n",
    "# train = pd.concat([train1, train2]).reset_index(drop=True)"
   ]
  },
  {
   "cell_type": "code",
   "execution_count": 3,
   "id": "2c3b26b4",
   "metadata": {},
   "outputs": [
    {
     "data": {
      "text/plain": [
       "<Axes: xlabel='epoch'>"
      ]
     },
     "execution_count": 3,
     "metadata": {},
     "output_type": "execute_result"
    },
    {
     "data": {
      "image/png": "[encoded data removed]",
      "text/plain": [
       "<Figure size 640x480 with 1 Axes>"
      ]
     },
     "metadata": {},
     "output_type": "display_data"
    }
   ],
   "source": [
    "train.groupby('epoch').mean()['msn'].plot()"
   ]
  },
  {
   "cell_type": "code",
   "execution_count": 4,
   "id": "17dae782",
   "metadata": {},
   "outputs": [
    {
     "data": {
      "text/html": [
       "<div>\n",
       "<style scoped>\n",
       "    .dataframe tbody tr th:only-of-type {\n",
       "        vertical-align: middle;\n",
       "    }\n",
       "\n",
       "    .dataframe tbody tr th {\n",
       "        vertical-align: top;\n",
       "    }\n",
       "\n",
       "    .dataframe thead th {\n",
       "        text-align: right;\n",
       "    }\n",
       "</style>\n",
       "<table border=\"1\" class=\"dataframe\">\n",
       "  <thead>\n",
       "    <tr style=\"text-align: right;\">\n",
       "      <th></th>\n",
       "      <th>epoch</th>\n",
       "      <th>itr</th>\n",
       "      <th>msn</th>\n",
       "      <th>me_max</th>\n",
       "      <th>ent</th>\n",
       "      <th>time (ms)</th>\n",
       "    </tr>\n",
       "  </thead>\n",
       "  <tbody>\n",
       "    <tr>\n",
       "      <th>0</th>\n",
       "      <td>1</td>\n",
       "      <td>0</td>\n",
       "      <td>3.63322</td>\n",
       "      <td>0.11012</td>\n",
       "      <td>0.0</td>\n",
       "      <td>6474</td>\n",
       "    </tr>\n",
       "    <tr>\n",
       "      <th>1</th>\n",
       "      <td>1</td>\n",
       "      <td>1</td>\n",
       "      <td>3.88487</td>\n",
       "      <td>0.08792</td>\n",
       "      <td>0.0</td>\n",
       "      <td>1689</td>\n",
       "    </tr>\n",
       "    <tr>\n",
       "      <th>2</th>\n",
       "      <td>1</td>\n",
       "      <td>2</td>\n",
       "      <td>3.71400</td>\n",
       "      <td>0.11740</td>\n",
       "      <td>0.0</td>\n",
       "      <td>1586</td>\n",
       "    </tr>\n",
       "    <tr>\n",
       "      <th>3</th>\n",
       "      <td>1</td>\n",
       "      <td>3</td>\n",
       "      <td>3.57461</td>\n",
       "      <td>0.05702</td>\n",
       "      <td>0.0</td>\n",
       "      <td>1311</td>\n",
       "    </tr>\n",
       "    <tr>\n",
       "      <th>4</th>\n",
       "      <td>1</td>\n",
       "      <td>4</td>\n",
       "      <td>3.34399</td>\n",
       "      <td>0.03700</td>\n",
       "      <td>0.0</td>\n",
       "      <td>1314</td>\n",
       "    </tr>\n",
       "    <tr>\n",
       "      <th>...</th>\n",
       "      <td>...</td>\n",
       "      <td>...</td>\n",
       "      <td>...</td>\n",
       "      <td>...</td>\n",
       "      <td>...</td>\n",
       "      <td>...</td>\n",
       "    </tr>\n",
       "    <tr>\n",
       "      <th>7464</th>\n",
       "      <td>166</td>\n",
       "      <td>39</td>\n",
       "      <td>0.24304</td>\n",
       "      <td>0.03840</td>\n",
       "      <td>0.0</td>\n",
       "      <td>1300</td>\n",
       "    </tr>\n",
       "    <tr>\n",
       "      <th>7465</th>\n",
       "      <td>166</td>\n",
       "      <td>40</td>\n",
       "      <td>0.26242</td>\n",
       "      <td>0.04813</td>\n",
       "      <td>0.0</td>\n",
       "      <td>1300</td>\n",
       "    </tr>\n",
       "    <tr>\n",
       "      <th>7466</th>\n",
       "      <td>166</td>\n",
       "      <td>41</td>\n",
       "      <td>0.23965</td>\n",
       "      <td>0.04023</td>\n",
       "      <td>0.0</td>\n",
       "      <td>1301</td>\n",
       "    </tr>\n",
       "    <tr>\n",
       "      <th>7467</th>\n",
       "      <td>166</td>\n",
       "      <td>42</td>\n",
       "      <td>0.26774</td>\n",
       "      <td>0.04545</td>\n",
       "      <td>0.0</td>\n",
       "      <td>1302</td>\n",
       "    </tr>\n",
       "    <tr>\n",
       "      <th>7468</th>\n",
       "      <td>166</td>\n",
       "      <td>43</td>\n",
       "      <td>0.27826</td>\n",
       "      <td>0.02537</td>\n",
       "      <td>0.0</td>\n",
       "      <td>1301</td>\n",
       "    </tr>\n",
       "  </tbody>\n",
       "</table>\n",
       "<p>7469 rows × 6 columns</p>\n",
       "</div>"
      ],
      "text/plain": [
       "      epoch  itr      msn   me_max  ent  time (ms)\n",
       "0         1    0  3.63322  0.11012  0.0       6474\n",
       "1         1    1  3.88487  0.08792  0.0       1689\n",
       "2         1    2  3.71400  0.11740  0.0       1586\n",
       "3         1    3  3.57461  0.05702  0.0       1311\n",
       "4         1    4  3.34399  0.03700  0.0       1314\n",
       "...     ...  ...      ...      ...  ...        ...\n",
       "7464    166   39  0.24304  0.03840  0.0       1300\n",
       "7465    166   40  0.26242  0.04813  0.0       1300\n",
       "7466    166   41  0.23965  0.04023  0.0       1301\n",
       "7467    166   42  0.26774  0.04545  0.0       1302\n",
       "7468    166   43  0.27826  0.02537  0.0       1301\n",
       "\n",
       "[7469 rows x 6 columns]"
      ]
     },
     "execution_count": 4,
     "metadata": {},
     "output_type": "execute_result"
    }
   ],
   "source": [
    "train"
   ]
  }
 ],
 "metadata": {
  "kernelspec": {
   "display_name": "env",
   "language": "python",
   "name": "python3"
  },
  "language_info": {
   "codemirror_mode": {
    "name": "ipython",
    "version": 3
   },
   "file_extension": ".py",
   "mimetype": "text/x-python",
   "name": "python",
   "nbconvert_exporter": "python",
   "pygments_lexer": "ipython3",
   "version": "3.10.12"
  }
 },
 "nbformat": 4,
 "nbformat_minor": 5
}
