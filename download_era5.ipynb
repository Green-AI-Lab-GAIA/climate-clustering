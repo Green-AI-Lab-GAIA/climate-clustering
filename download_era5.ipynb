{
 "cells": [
  {
   "cell_type": "markdown",
   "metadata": {},
   "source": [
    "Download data from ERA5 reanalysis dataset\n",
    "\n",
    "[API guide](https://cds.climate.copernicus.eu/cdsapp#!/dataset/reanalysis-era5-single-levels-monthly-means?tab=form)\n",
    "\n",
    "Notes:\n",
    "- I usually run this in Colab to save files to Google Drive easily\n",
    "- You can use a website like [bboxfinder](#http://bboxfinder.com/#) to get the coordinates of the desired area, but you need to pay attention to the ERA 5 API correct order: [North, West, South, East ]"
   ]
  },
  {
   "cell_type": "code",
   "execution_count": null,
   "metadata": {},
   "outputs": [],
   "source": [
    "!pip install cdsapi --quiet\n",
    "\n",
    "!pip install cdstoolbox-remote\n",
    "\n",
    "# to be able to read grib files\n",
    "!pip install cfgrib --quiet\n",
    "!pip install eccodes --quiet\n",
    "!sudo apt-get install libeccodes0  --quiet"
   ]
  },
  {
   "cell_type": "code",
   "execution_count": null,
   "metadata": {},
   "outputs": [],
   "source": [
    "from google.colab import drive\n",
    "import os\n",
    "import cdsapi\n",
    "import cfgrib\n",
    "import xarray as xr\n",
    "\n",
    "from time import sleep\n",
    "\n",
    "mount = '/content/drive'\n",
    "drive.mount('/content/drive')\n",
    "\n",
    "#Switch to the directory on the Google Drive that you want to use\n",
    "drive_root = mount  +\"/MyDrive/Colab Notebooks/Climate\"\n",
    "%cd $drive_root"
   ]
  },
  {
   "cell_type": "code",
   "execution_count": null,
   "metadata": {},
   "outputs": [],
   "source": [
    "API_KEY =  \"\"\n",
    "cds = cdsapi.Client(url=\"https://cds.climate.copernicus.eu/api/v2\",key=API_KEY)"
   ]
  },
  {
   "cell_type": "code",
   "execution_count": null,
   "metadata": {},
   "outputs": [],
   "source": [
    "area_download = [2.46, -71.97, -33.26,-36.64] #brazil area\n",
    "\n",
    "variables = [\n",
    "    '2m_temperature',\n",
    "    'total_precipitation',\n",
    "    'mean_sea_level_pressure'\n",
    "]\n",
    "\n",
    "folder_name = '3_variables'\n",
    "\n",
    "years_to_download = [str(i) for i in range(1983,2024)]\n",
    "\n",
    "times_available = [ '00:00', '01:00', '02:00',\n",
    "                  '03:00', '04:00', '05:00',\n",
    "                  '06:00', '07:00', '08:00',\n",
    "                  '09:00', '10:00', '11:00',\n",
    "                  '12:00', '13:00', '14:00',\n",
    "                  '15:00', '16:00', '17:00',\n",
    "                  '18:00', '19:00', '20:00',\n",
    "                  '21:00', '22:00', '23:00',]\n",
    "\n",
    "times_to_get = times_available[::3]\n",
    "\n",
    "#download blocks\n",
    "block_size = 6\n",
    "block_start, block_end = 0, block_size"
   ]
  },
  {
   "cell_type": "code",
   "execution_count": 1,
   "metadata": {},
   "outputs": [],
   "source": [
    "datasets = []\n",
    "while block_start < len(years_to_download):\n",
    "\n",
    "  cur_years = years_to_download[block_start:block_end ]\n",
    "\n",
    "  start_y, end_y = cur_years[0],cur_years[-1]\n",
    "\n",
    "  print('Downloading',cur_years)\n",
    "\n",
    "  dataset_name =f\"era_{start_y}_{end_y}\"\n",
    "  dataset_name =f'data/brazil/{folder_name}/{dataset_name}.grib'\n",
    "\n",
    "  datasets.append(dataset_name)\n",
    "  \n",
    "  data = cds.retrieve(\n",
    "      'reanalysis-era5-single-levels',\n",
    "      {\n",
    "          'product_type': 'reanalysis',\n",
    "          'variable': variables,\n",
    "\n",
    "          'year': cur_years,\n",
    "\n",
    "          'month': [\n",
    "              '01', '02', '03','04', '05', '06',\n",
    "              '07', '08', '09','10', '11', '12'],\n",
    "\n",
    "          'day': [\n",
    "              '01', '02', '03','04', '05', '06',\n",
    "              '07', '08', '09','10', '11', '12',\n",
    "              '13', '14', '15','16', '17', '18',\n",
    "              '19', '20', '21','22', '23', '24',\n",
    "              '25', '26', '27','28', '29', '30','31'],\n",
    "\n",
    "          'time': times_to_get,\n",
    "\n",
    "          'area': [2.46, -71.97, -33.26,-36.64], #Brazil box http://bboxfinder.com/#-33.268014,-71.975849,2.469466,-36.648545\n",
    "\n",
    "          'format': 'grib',\n",
    "\n",
    "      },dataset_name)\n",
    "\n",
    "  block_start = block_end\n",
    "  block_end += block_size\n",
    "\n",
    "  print('-- finished --')\n",
    "\n",
    "  sleep(30)"
   ]
  }
 ],
 "metadata": {
  "kernelspec": {
   "display_name": "tf",
   "language": "python",
   "name": "python3"
  },
  "language_info": {
   "codemirror_mode": {
    "name": "ipython",
    "version": 3
   },
   "file_extension": ".py",
   "mimetype": "text/x-python",
   "name": "python",
   "nbconvert_exporter": "python",
   "pygments_lexer": "ipython3",
   "version": "3.9.16"
  }
 },
 "nbformat": 4,
 "nbformat_minor": 2
}
